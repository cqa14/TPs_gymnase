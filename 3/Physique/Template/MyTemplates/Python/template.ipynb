{
 "cells": [
  {
   "cell_type": "code",
   "execution_count": null,
   "metadata": {},
   "outputs": [],
   "source": [
    "import numpy as np\n",
    "import pandas as pd\n",
    "import scienceplots\n",
    "import matplotlib.pyplot as plt\n",
    "\n",
    "import sympy as sp\n",
    "import scipy as sc\n",
    "\n",
    "from numba import jit\n",
    "\n",
    "plt.style.use(['science', 'notebook', 'grid'])"
   ]
  }
 ],
 "metadata": {
  "language_info": {
   "name": "python"
  },
  "orig_nbformat": 4
 },
 "nbformat": 4,
 "nbformat_minor": 2
}
